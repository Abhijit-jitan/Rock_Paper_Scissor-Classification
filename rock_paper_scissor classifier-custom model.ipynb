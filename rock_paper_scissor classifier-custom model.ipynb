{
 "cells": [
  {
   "cell_type": "code",
   "execution_count": 94,
   "id": "7b0e21a2",
   "metadata": {
    "ExecuteTime": {
     "end_time": "2021-09-13T07:58:36.970539Z",
     "start_time": "2021-09-13T07:58:36.949806Z"
    }
   },
   "outputs": [],
   "source": [
    "## Import Libraries\n",
    "import numpy as np\n",
    "import tensorflow as tf\n",
    "from tensorflow import keras"
   ]
  },
  {
   "cell_type": "code",
   "execution_count": 95,
   "id": "6215bea8",
   "metadata": {
    "ExecuteTime": {
     "end_time": "2021-09-13T07:58:37.322515Z",
     "start_time": "2021-09-13T07:58:37.311142Z"
    }
   },
   "outputs": [],
   "source": [
    "## Data Sources:\n",
    "# https://laurencemoroney.com/datasets.html"
   ]
  },
  {
   "cell_type": "code",
   "execution_count": 96,
   "id": "df847d8c",
   "metadata": {
    "ExecuteTime": {
     "end_time": "2021-09-13T07:58:37.958447Z",
     "start_time": "2021-09-13T07:58:37.769382Z"
    }
   },
   "outputs": [
    {
     "name": "stdout",
     "output_type": "stream",
     "text": [
      "Found 372 images belonging to 3 classes.\n",
      "Found 372 images belonging to 3 classes.\n"
     ]
    }
   ],
   "source": [
    "## Load data\n",
    "train_path=r\"C:\\Users\\JokeRR\\Referances\\python_projects\\Rock_Paper_Scissor Classification\\rps-test-set\"\n",
    "valid_path=r\"C:\\Users\\JokeRR\\Referances\\python_projects\\Rock_Paper_Scissor Classification\\rps-test-set\"\n",
    "\n",
    "from tensorflow.keras.preprocessing.image import ImageDataGenerator\n",
    "\n",
    "train_gen=ImageDataGenerator(rescale=1./255)\n",
    "train=train_gen.flow_from_directory(directory=train_path,target_size=(224,224),batch_size=45)\n",
    "\n",
    "valid_gen=ImageDataGenerator(rescale=1./255)\n",
    "valid=valid_gen.flow_from_directory(directory=valid_path,target_size=(224,224),batch_size=45)"
   ]
  },
  {
   "cell_type": "code",
   "execution_count": 97,
   "id": "30e1f390",
   "metadata": {
    "ExecuteTime": {
     "end_time": "2021-09-13T07:58:38.346269Z",
     "start_time": "2021-09-13T07:58:38.323550Z"
    }
   },
   "outputs": [
    {
     "data": {
      "text/plain": [
       "{'paper': 0, 'rock': 1, 'scissors': 2}"
      ]
     },
     "execution_count": 97,
     "metadata": {},
     "output_type": "execute_result"
    }
   ],
   "source": [
    "## Class Mapper\n",
    "labels=(train.class_indices)\n",
    "labels"
   ]
  },
  {
   "cell_type": "code",
   "execution_count": 98,
   "id": "01f72b50",
   "metadata": {
    "ExecuteTime": {
     "end_time": "2021-09-13T07:58:39.584391Z",
     "start_time": "2021-09-13T07:58:39.260644Z"
    }
   },
   "outputs": [
    {
     "name": "stdout",
     "output_type": "stream",
     "text": [
      "Model: \"sequential_13\"\n",
      "_________________________________________________________________\n",
      "Layer (type)                 Output Shape              Param #   \n",
      "=================================================================\n",
      "conv2d_39 (Conv2D)           (None, 222, 222, 32)      896       \n",
      "_________________________________________________________________\n",
      "max_pooling2d_39 (MaxPooling (None, 111, 111, 32)      0         \n",
      "_________________________________________________________________\n",
      "conv2d_40 (Conv2D)           (None, 107, 107, 64)      51264     \n",
      "_________________________________________________________________\n",
      "max_pooling2d_40 (MaxPooling (None, 53, 53, 64)        0         \n",
      "_________________________________________________________________\n",
      "conv2d_41 (Conv2D)           (None, 49, 49, 64)        102464    \n",
      "_________________________________________________________________\n",
      "max_pooling2d_41 (MaxPooling (None, 24, 24, 64)        0         \n",
      "_________________________________________________________________\n",
      "flatten_13 (Flatten)         (None, 36864)             0         \n",
      "_________________________________________________________________\n",
      "dense_28 (Dense)             (None, 128)               4718720   \n",
      "_________________________________________________________________\n",
      "dropout_1 (Dropout)          (None, 128)               0         \n",
      "_________________________________________________________________\n",
      "dense_29 (Dense)             (None, 3)                 387       \n",
      "=================================================================\n",
      "Total params: 4,873,731\n",
      "Trainable params: 4,873,731\n",
      "Non-trainable params: 0\n",
      "_________________________________________________________________\n"
     ]
    }
   ],
   "source": [
    "## Modeling\n",
    "\n",
    "from tensorflow.keras.models import Sequential\n",
    "from tensorflow.keras.layers import Dense,Conv2D,MaxPooling2D,Flatten,Dropout\n",
    "from tensorflow.keras.optimizers import Adam\n",
    "from tensorflow.keras.metrics import categorical_crossentropy\n",
    "\n",
    "def CNN_model():\n",
    "    ## create model\n",
    "    model=Sequential()\n",
    "    model.add(Conv2D(32,(3,3),strides=(1,1),activation='relu',input_shape=(224,224,3)))\n",
    "    model.add(MaxPooling2D(pool_size=(2, 2),strides=(2,2)))\n",
    "    \n",
    "    model.add(Conv2D(64,(5,5),strides=(1,1),activation='relu'))\n",
    "    model.add(MaxPooling2D(pool_size=(2,2),strides=(2,2)))\n",
    "    \n",
    "    model.add(Conv2D(64,(5,5),strides=(1,1),activation='relu'))\n",
    "    model.add(MaxPooling2D(pool_size=(2,2),strides=(2,2)))\n",
    "    \n",
    "    \n",
    "    model.add(Flatten())\n",
    "    model.add(Dense(128,activation='relu'))\n",
    "    model.add(Dropout(0.3))\n",
    "    model.add(Dense(3,activation='softmax'))\n",
    "    \n",
    "    ## Model Compile\n",
    "    model.compile(optimizer=Adam(learning_rate=0.0001),loss='categorical_crossentropy',metrics=['accuracy'])\n",
    "\n",
    "    \n",
    "    return model\n",
    "    \n",
    "\n",
    "model=CNN_model()\n",
    "model.summary()"
   ]
  },
  {
   "cell_type": "code",
   "execution_count": null,
   "id": "ca8e167c",
   "metadata": {
    "ExecuteTime": {
     "start_time": "2021-09-13T07:58:49.347Z"
    }
   },
   "outputs": [
    {
     "name": "stdout",
     "output_type": "stream",
     "text": [
      "Epoch 1/15\n",
      "9/9 [==============================] - 51s 6s/step - loss: 1.1439 - accuracy: 0.3199 - val_loss: 1.0662 - val_accuracy: 0.5753\n",
      "Epoch 2/15\n",
      "3/9 [=========>....................] - ETA: 21s - loss: 1.0717 - accuracy: 0.4593"
     ]
    }
   ],
   "source": [
    "## Early Stpping\n",
    "callback=tf.keras.callbacks.EarlyStopping(monitor='loss',patience=3)\n",
    "\n",
    "## Model Training\n",
    "history=model.fit(x=train,steps_per_epoch=len(train),validation_data=valid,epochs=15,verbose=1,callbacks=[callback])"
   ]
  },
  {
   "cell_type": "code",
   "execution_count": null,
   "id": "8ac88d1b",
   "metadata": {
    "ExecuteTime": {
     "start_time": "2021-09-13T07:58:50.251Z"
    }
   },
   "outputs": [],
   "source": [
    "## Plotting Score & Loss Curve\n",
    "\n",
    "acc=history.history['accuracy']\n",
    "val_acc=history.history['val_accuracy']\n",
    "loss=history.history['loss']\n",
    "val_loss=history.history['val_loss']\n",
    "\n",
    "\n",
    "## Plotting Accuracy Score\n",
    "import matplotlib.pyplot as plt\n",
    "plt.figure(figsize=(8,8))\n",
    "#plt.subplot(1,2,1)\n",
    "plt.plot(range(15),acc,label='Training Accuracy')\n",
    "plt.plot(range(15),val_acc, label='Validation Accuracy')\n",
    "plt.legend(loc='best')\n",
    "plt.title('Accuracy')"
   ]
  },
  {
   "cell_type": "code",
   "execution_count": null,
   "id": "5a21f292",
   "metadata": {
    "ExecuteTime": {
     "start_time": "2021-09-13T07:58:50.875Z"
    }
   },
   "outputs": [],
   "source": [
    "## Plotting Loss\n",
    "\n",
    "#plt.subplot(1,2,2)\n",
    "plt.plot(range(15),loss,label='Training Loss')\n",
    "plt.plot(range(15),val_loss, label='Validation Loss')\n",
    "plt.legend(loc='best')\n",
    "plt.title('Loss')\n",
    "plt.show()"
   ]
  },
  {
   "cell_type": "code",
   "execution_count": 37,
   "id": "3e936e8b",
   "metadata": {
    "ExecuteTime": {
     "end_time": "2021-09-13T06:29:30.004579Z",
     "start_time": "2021-09-13T06:29:17.691275Z"
    }
   },
   "outputs": [
    {
     "name": "stdout",
     "output_type": "stream",
     "text": [
      "9/9 [==============================] - 9s 1s/step\n"
     ]
    },
    {
     "data": {
      "text/plain": [
       "array([[1.3498765e-05, 9.9997449e-01, 1.2042815e-05],\n",
       "       [9.5333445e-01, 1.8132794e-05, 4.6647388e-02],\n",
       "       [7.6378870e-05, 6.3806982e-04, 9.9928552e-01],\n",
       "       ...,\n",
       "       [9.9779415e-01, 2.5927720e-06, 2.2031975e-03],\n",
       "       [2.2322542e-04, 9.9846590e-01, 1.3109993e-03],\n",
       "       [3.3756576e-05, 3.4011342e-04, 9.9962616e-01]], dtype=float32)"
      ]
     },
     "execution_count": 37,
     "metadata": {},
     "output_type": "execute_result"
    }
   ],
   "source": [
    "## Prediction\n",
    "pred=model.predict(x=test,steps=len(test),verbose=1)\n",
    "pred"
   ]
  },
  {
   "cell_type": "code",
   "execution_count": 89,
   "id": "96356489",
   "metadata": {
    "ExecuteTime": {
     "end_time": "2021-09-13T07:41:38.161025Z",
     "start_time": "2021-09-13T07:41:35.554470Z"
    }
   },
   "outputs": [
    {
     "data": {
      "text/plain": [
       "(None, 'Paper')"
      ]
     },
     "execution_count": 89,
     "metadata": {},
     "output_type": "execute_result"
    }
   ],
   "source": [
    "## New Image Prediction\n",
    "import numpy as np\n",
    "from tensorflow.keras.preprocessing import image\n",
    "import matplotlib.pyplot as plt\n",
    "\n",
    "def predictor(img_path):\n",
    "    img=image.load_img(img_path,target_size=(224,224))  # Image(PIL Image Instance)\n",
    "    img_arr=image.img_to_array(img)                     # to Array(3D Array)\n",
    "    img_expand=np.expand_dims(img_arr,axis=0)           # Expand Image-Array\n",
    "    pred=model.predict(img_expand,batch_size=10)        # model Predict\n",
    "    \n",
    "    lst=[\"Paper\",\"Rock\",\"Scissors\"]\n",
    "\n",
    "    return img.show(),lst[pred.argmax()]\n",
    "\n",
    "predictor(r\"C:\\Users\\JokeRR\\Referances\\python_projects\\Rock_Paper_Scissor Classification\\rps-validation\\paper-hires2.png\")"
   ]
  },
  {
   "cell_type": "markdown",
   "id": "b1624b2d",
   "metadata": {},
   "source": []
  }
 ],
 "metadata": {
  "kernelspec": {
   "display_name": "Python 3",
   "language": "python",
   "name": "python3"
  },
  "language_info": {
   "codemirror_mode": {
    "name": "ipython",
    "version": 3
   },
   "file_extension": ".py",
   "mimetype": "text/x-python",
   "name": "python",
   "nbconvert_exporter": "python",
   "pygments_lexer": "ipython3",
   "version": "3.8.8"
  },
  "toc": {
   "base_numbering": 1,
   "nav_menu": {},
   "number_sections": true,
   "sideBar": true,
   "skip_h1_title": false,
   "title_cell": "Table of Contents",
   "title_sidebar": "Contents",
   "toc_cell": false,
   "toc_position": {},
   "toc_section_display": true,
   "toc_window_display": false
  },
  "varInspector": {
   "cols": {
    "lenName": 16,
    "lenType": 16,
    "lenVar": 40
   },
   "kernels_config": {
    "python": {
     "delete_cmd_postfix": "",
     "delete_cmd_prefix": "del ",
     "library": "var_list.py",
     "varRefreshCmd": "print(var_dic_list())"
    },
    "r": {
     "delete_cmd_postfix": ") ",
     "delete_cmd_prefix": "rm(",
     "library": "var_list.r",
     "varRefreshCmd": "cat(var_dic_list()) "
    }
   },
   "types_to_exclude": [
    "module",
    "function",
    "builtin_function_or_method",
    "instance",
    "_Feature"
   ],
   "window_display": false
  }
 },
 "nbformat": 4,
 "nbformat_minor": 5
}
