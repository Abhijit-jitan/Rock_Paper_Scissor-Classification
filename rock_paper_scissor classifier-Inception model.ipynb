{
 "cells": [
  {
   "cell_type": "code",
   "execution_count": 20,
   "id": "9a09ce25",
   "metadata": {
    "ExecuteTime": {
     "end_time": "2021-09-15T08:25:00.692796Z",
     "start_time": "2021-09-15T08:25:00.681166Z"
    }
   },
   "outputs": [],
   "source": [
    "## Import Libraries\n",
    "import numpy as np\n",
    "import tensorflow as tf\n",
    "from tensorflow import keras"
   ]
  },
  {
   "cell_type": "code",
   "execution_count": 21,
   "id": "4532b5ec",
   "metadata": {
    "ExecuteTime": {
     "end_time": "2021-09-15T08:25:03.679786Z",
     "start_time": "2021-09-15T08:25:03.673864Z"
    }
   },
   "outputs": [],
   "source": [
    "## Data Sources:\n",
    "# https://laurencemoroney.com/datasets.html"
   ]
  },
  {
   "cell_type": "code",
   "execution_count": 37,
   "id": "97124173",
   "metadata": {
    "ExecuteTime": {
     "end_time": "2021-09-15T08:40:04.764547Z",
     "start_time": "2021-09-15T08:40:04.565474Z"
    }
   },
   "outputs": [
    {
     "name": "stdout",
     "output_type": "stream",
     "text": [
      "Found 372 images belonging to 3 classes.\n",
      "Found 372 images belonging to 3 classes.\n"
     ]
    }
   ],
   "source": [
    "## Load data\n",
    "train_path=r\"C:\\Users\\JokeRR\\Referances\\python_projects\\Rock_Paper_Scissor Classification\\rps-test-set\"\n",
    "valid_path=r\"C:\\Users\\JokeRR\\Referances\\python_projects\\Rock_Paper_Scissor Classification\\rps-test-set\"\n",
    "\n",
    "from tensorflow.keras.preprocessing.image import ImageDataGenerator\n",
    "\n",
    "train_gen=ImageDataGenerator(rescale=1./255)\n",
    "train=train_gen.flow_from_directory(directory=train_path,target_size=(150,150),batch_size=45)\n",
    "\n",
    "valid_gen=ImageDataGenerator(rescale=1./255)\n",
    "valid=valid_gen.flow_from_directory(directory=valid_path,target_size=(150,150),batch_size=45)"
   ]
  },
  {
   "cell_type": "code",
   "execution_count": 38,
   "id": "9acb7fb4",
   "metadata": {
    "ExecuteTime": {
     "end_time": "2021-09-15T08:40:06.119246Z",
     "start_time": "2021-09-15T08:40:06.105412Z"
    }
   },
   "outputs": [
    {
     "data": {
      "text/plain": [
       "{'paper': 0, 'rock': 1, 'scissors': 2}"
      ]
     },
     "execution_count": 38,
     "metadata": {},
     "output_type": "execute_result"
    }
   ],
   "source": [
    "## Class Mapper\n",
    "labels=(train.class_indices)\n",
    "labels"
   ]
  },
  {
   "cell_type": "code",
   "execution_count": 39,
   "id": "82fca947",
   "metadata": {
    "ExecuteTime": {
     "end_time": "2021-09-15T08:40:15.605588Z",
     "start_time": "2021-09-15T08:40:07.236943Z"
    }
   },
   "outputs": [],
   "source": [
    "## Inception Model\n",
    "from tensorflow.keras.applications.inception_v3 import InceptionV3\n",
    "\n",
    "weight=r\"C:\\Users\\JokeRR\\Referances\\Deep_Learning\\Tf & Keras\\pretrained model & weight\\inception_v3_weights_tf_dim_ordering_tf_kernels_notop.h5\"\n",
    "\n",
    "inception_v3=InceptionV3(input_shape=(150,150,3),include_top=False,weights=None)\n",
    "# include_top=False: Not include fully-connected layer at top\n",
    "# weights=None: Random initialization\n",
    "inception_v3.load_weights(weight)        \n",
    "    \n",
    "\n",
    "#inception_v3.summary()"
   ]
  },
  {
   "cell_type": "code",
   "execution_count": 49,
   "id": "ed05f3c0",
   "metadata": {
    "ExecuteTime": {
     "end_time": "2021-09-15T08:48:24.227227Z",
     "start_time": "2021-09-15T08:48:23.578042Z"
    }
   },
   "outputs": [],
   "source": [
    "for layer in inception_v3.layers:\n",
    "    layer.trainable=False            # No trainable parameters\n",
    "\n",
    "    \n",
    "## Changing 'mixed7'layer to 'last_layer'    \n",
    "last_layer=inception_v3.get_layer('mixed7')\n",
    "#print('last layer output shape: ',last_layer.output_shape)\n",
    "last_output=last_layer.output   \n",
    "\n",
    "\n",
    "## modify model's layer\n",
    "from tensorflow.keras import Model\n",
    "from tensorflow.keras.layers import Dense,Flatten,Dropout\n",
    "\n",
    "x=Flatten()(last_output)           # Flatten output layer to 1 dimension\n",
    "x=Dense(512,activation='relu')(x)  # Add fully connected layer with 512 hidden units\n",
    "x=Dense(256,activation='relu')(x)  # Add fully connected layer with 256 hidden units\n",
    "x=Dense(128,activation='relu')(x)  # Add fully connected layer with 128 hidden units\n",
    "x=Dropout(0.4)(x)                  # Add dropout rate of 0.4\n",
    "x=Dense(3,activation='softmax')(x) # Add final sigmoid layer for classification\n",
    "          \n",
    "model=Model(inception_v3.input,x)   \n",
    "\n",
    "#model.summary()  \n"
   ]
  },
  {
   "cell_type": "code",
   "execution_count": 50,
   "id": "2d604858",
   "metadata": {
    "ExecuteTime": {
     "end_time": "2021-09-15T08:50:41.690400Z",
     "start_time": "2021-09-15T08:48:31.613335Z"
    }
   },
   "outputs": [
    {
     "name": "stdout",
     "output_type": "stream",
     "text": [
      "Epoch 1/5\n",
      "9/9 [==============================] - 24s 3s/step - loss: 0.5130 - accuracy: 0.8118 - val_loss: 0.0471 - val_accuracy: 1.0000\n",
      "Epoch 2/5\n",
      "9/9 [==============================] - 22s 2s/step - loss: 0.0382 - accuracy: 1.0000 - val_loss: 0.0033 - val_accuracy: 1.0000\n",
      "Epoch 3/5\n",
      "9/9 [==============================] - 23s 3s/step - loss: 0.0081 - accuracy: 1.0000 - val_loss: 5.6202e-04 - val_accuracy: 1.0000\n",
      "Epoch 4/5\n",
      "9/9 [==============================] - 21s 2s/step - loss: 0.0021 - accuracy: 1.0000 - val_loss: 2.3487e-04 - val_accuracy: 1.0000\n",
      "Epoch 5/5\n",
      "9/9 [==============================] - 21s 2s/step - loss: 0.0015 - accuracy: 1.0000 - val_loss: 1.3500e-04 - val_accuracy: 1.0000\n"
     ]
    }
   ],
   "source": [
    "## Model Compile\n",
    "from tensorflow.keras.optimizers import Adam\n",
    "from tensorflow.keras.metrics import categorical_crossentropy\n",
    "model.compile(optimizer=Adam(learning_rate=0.0001),loss='categorical_crossentropy',metrics=['accuracy'])\n",
    "\n",
    "\n",
    "## Early Stpping\n",
    "callback=tf.keras.callbacks.EarlyStopping(monitor='loss',patience=3)\n",
    "\n",
    "## Model Training\n",
    "history=model.fit(x=train,steps_per_epoch=len(train),validation_data=valid,epochs=5,verbose=1,callbacks=[callback])"
   ]
  },
  {
   "cell_type": "code",
   "execution_count": 51,
   "id": "92f4347c",
   "metadata": {
    "ExecuteTime": {
     "end_time": "2021-09-15T09:00:49.715699Z",
     "start_time": "2021-09-15T09:00:49.038585Z"
    }
   },
   "outputs": [
    {
     "data": {
      "text/plain": [
       "Text(0.5, 1.0, 'Accuracy')"
      ]
     },
     "execution_count": 51,
     "metadata": {},
     "output_type": "execute_result"
    },
    {
     "data": {
      "image/png": "[encoded data removed]",
      "text/plain": [
       "<Figure size 576x576 with 1 Axes>"
      ]
     },
     "metadata": {
      "needs_background": "light"
     },
     "output_type": "display_data"
    }
   ],
   "source": [
    "## Plotting Score & Loss Curve\n",
    "\n",
    "acc=history.history['accuracy']\n",
    "val_acc=history.history['val_accuracy']\n",
    "loss=history.history['loss']\n",
    "val_loss=history.history['val_loss']\n",
    "\n",
    "\n",
    "## Plotting Accuracy Score\n",
    "import matplotlib.pyplot as plt\n",
    "plt.figure(figsize=(8,8))\n",
    "#plt.subplot(1,2,1)\n",
    "plt.plot(range(5),acc,label='Training Accuracy')\n",
    "plt.plot(range(5),val_acc, label='Validation Accuracy')\n",
    "plt.legend(loc='best')\n",
    "plt.title('Accuracy')"
   ]
  },
  {
   "cell_type": "code",
   "execution_count": 52,
   "id": "dde8cb0b",
   "metadata": {
    "ExecuteTime": {
     "end_time": "2021-09-15T09:00:50.560984Z",
     "start_time": "2021-09-15T09:00:49.948309Z"
    }
   },
   "outputs": [
    {
     "data": {
      "image/png": "[encoded data removed]",
      "text/plain": [
       "<Figure size 432x288 with 1 Axes>"
      ]
     },
     "metadata": {
      "needs_background": "light"
     },
     "output_type": "display_data"
    }
   ],
   "source": [
    "## Plotting Loss\n",
    "\n",
    "#plt.subplot(1,2,2)\n",
    "plt.plot(range(5),loss,label='Training Loss')\n",
    "plt.plot(range(5),val_loss, label='Validation Loss')\n",
    "plt.legend(loc='best')\n",
    "plt.title('Loss')\n",
    "plt.show()"
   ]
  },
  {
   "cell_type": "code",
   "execution_count": null,
   "id": "6f433b5c",
   "metadata": {},
   "outputs": [],
   "source": [
    "## Prediction\n",
    "pred=model.predict(x=test,steps=len(test),verbose=1)\n",
    "pred"
   ]
  },
  {
   "cell_type": "code",
   "execution_count": null,
   "id": "913dc2c5",
   "metadata": {},
   "outputs": [],
   "source": [
    "## New Image Prediction\n",
    "import numpy as np\n",
    "from tensorflow.keras.preprocessing import image\n",
    "import matplotlib.pyplot as plt\n",
    "\n",
    "def predictor(img_path):\n",
    "    img=image.load_img(img_path,target_size=(224,224))  # Image(PIL Image Instance)\n",
    "    img_arr=image.img_to_array(img)                     # to Array(3D Array)\n",
    "    img_expand=np.expand_dims(img_arr,axis=0)           # Expand Image-Array\n",
    "    pred=model.predict(img_expand,batch_size=10)        # model Predict\n",
    "    \n",
    "    lst=[\"Paper\",\"Rock\",\"Scissors\"]\n",
    "\n",
    "    return img.show(),lst[pred.argmax()]\n",
    "\n",
    "predictor(r\"C:\\Users\\JokeRR\\Referances\\python_projects\\Rock_Paper_Scissor Classification\\rps-validation\\paper-hires2.png\")"
   ]
  },
  {
   "cell_type": "code",
   "execution_count": null,
   "id": "594d90fe",
   "metadata": {},
   "outputs": [],
   "source": []
  }
 ],
 "metadata": {
  "kernelspec": {
   "display_name": "Python 3",
   "language": "python",
   "name": "python3"
  },
  "language_info": {
   "codemirror_mode": {
    "name": "ipython",
    "version": 3
   },
   "file_extension": ".py",
   "mimetype": "text/x-python",
   "name": "python",
   "nbconvert_exporter": "python",
   "pygments_lexer": "ipython3",
   "version": "3.8.8"
  },
  "toc": {
   "base_numbering": 1,
   "nav_menu": {},
   "number_sections": true,
   "sideBar": true,
   "skip_h1_title": false,
   "title_cell": "Table of Contents",
   "title_sidebar": "Contents",
   "toc_cell": false,
   "toc_position": {},
   "toc_section_display": true,
   "toc_window_display": false
  },
  "varInspector": {
   "cols": {
    "lenName": 16,
    "lenType": 16,
    "lenVar": 40
   },
   "kernels_config": {
    "python": {
     "delete_cmd_postfix": "",
     "delete_cmd_prefix": "del ",
     "library": "var_list.py",
     "varRefreshCmd": "print(var_dic_list())"
    },
    "r": {
     "delete_cmd_postfix": ") ",
     "delete_cmd_prefix": "rm(",
     "library": "var_list.r",
     "varRefreshCmd": "cat(var_dic_list()) "
    }
   },
   "types_to_exclude": [
    "module",
    "function",
    "builtin_function_or_method",
    "instance",
    "_Feature"
   ],
   "window_display": false
  }
 },
 "nbformat": 4,
 "nbformat_minor": 5
}
