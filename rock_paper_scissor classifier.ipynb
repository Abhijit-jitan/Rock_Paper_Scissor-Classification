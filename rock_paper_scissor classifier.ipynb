{
 "cells": [
  {
   "cell_type": "code",
   "execution_count": 22,
   "id": "7b0e21a2",
   "metadata": {
    "ExecuteTime": {
     "end_time": "2021-09-11T16:50:12.870556Z",
     "start_time": "2021-09-11T16:50:12.857570Z"
    }
   },
   "outputs": [],
   "source": [
    "## Import Libraries\n",
    "import numpy as np\n",
    "import tensorflow as tf\n",
    "from tensorflow import keras"
   ]
  },
  {
   "cell_type": "code",
   "execution_count": 35,
   "id": "df847d8c",
   "metadata": {
    "ExecuteTime": {
     "end_time": "2021-09-11T18:29:25.211619Z",
     "start_time": "2021-09-11T18:29:24.991344Z"
    }
   },
   "outputs": [
    {
     "name": "stdout",
     "output_type": "stream",
     "text": [
      "Found 372 images belonging to 3 classes.\n",
      "Found 372 images belonging to 3 classes.\n"
     ]
    }
   ],
   "source": [
    "## Load data\n",
    "train_path=r\"C:\\Users\\JokeRR\\Referances\\python_projects\\Rock_Paper_Scissor Classification\\rps-test-set\"\n",
    "valid_path=r\"C:\\Users\\JokeRR\\Referances\\python_projects\\Rock_Paper_Scissor Classification\\rps-test-set\"\n",
    "\n",
    "from tensorflow.keras.preprocessing.image import ImageDataGenerator\n",
    "\n",
    "train_gen=ImageDataGenerator(rescale=1./255)\n",
    "train=train_gen.flow_from_directory(directory=train_path,target_size=(224,224),batch_size=45)\n",
    "\n",
    "valid_gen=ImageDataGenerator(rescale=1./255)\n",
    "valid=valid_gen.flow_from_directory(directory=valid_path,target_size=(224,224),batch_size=45)"
   ]
  },
  {
   "cell_type": "code",
   "execution_count": 24,
   "id": "01f72b50",
   "metadata": {
    "ExecuteTime": {
     "end_time": "2021-09-11T16:50:43.570388Z",
     "start_time": "2021-09-11T16:50:43.103093Z"
    }
   },
   "outputs": [
    {
     "name": "stdout",
     "output_type": "stream",
     "text": [
      "Model: \"sequential_7\"\n",
      "_________________________________________________________________\n",
      "Layer (type)                 Output Shape              Param #   \n",
      "=================================================================\n",
      "conv2d_21 (Conv2D)           (None, 222, 222, 32)      896       \n",
      "_________________________________________________________________\n",
      "max_pooling2d_21 (MaxPooling (None, 111, 111, 32)      0         \n",
      "_________________________________________________________________\n",
      "conv2d_22 (Conv2D)           (None, 107, 107, 64)      51264     \n",
      "_________________________________________________________________\n",
      "max_pooling2d_22 (MaxPooling (None, 53, 53, 64)        0         \n",
      "_________________________________________________________________\n",
      "conv2d_23 (Conv2D)           (None, 49, 49, 64)        102464    \n",
      "_________________________________________________________________\n",
      "max_pooling2d_23 (MaxPooling (None, 24, 24, 64)        0         \n",
      "_________________________________________________________________\n",
      "flatten_7 (Flatten)          (None, 36864)             0         \n",
      "_________________________________________________________________\n",
      "dense_19 (Dense)             (None, 128)               4718720   \n",
      "_________________________________________________________________\n",
      "dense_20 (Dense)             (None, 3)                 387       \n",
      "=================================================================\n",
      "Total params: 4,873,731\n",
      "Trainable params: 4,873,731\n",
      "Non-trainable params: 0\n",
      "_________________________________________________________________\n"
     ]
    }
   ],
   "source": [
    "## Modeling\n",
    "\n",
    "from tensorflow.keras.models import Sequential\n",
    "from tensorflow.keras.layers import Dense,Conv2D,MaxPooling2D,Flatten\n",
    "from tensorflow.keras.optimizers import Adam\n",
    "from tensorflow.keras.metrics import categorical_crossentropy\n",
    "\n",
    "def CNN_model():\n",
    "    ## create model\n",
    "    model=Sequential()\n",
    "    model.add(Conv2D(32,(3,3),strides=(1,1),activation='relu',input_shape=(224,224,3)))\n",
    "    model.add(MaxPooling2D(pool_size=(2, 2),strides=(2,2)))\n",
    "    \n",
    "    model.add(Conv2D(64,(5,5),strides=(1,1),activation='relu'))\n",
    "    model.add(MaxPooling2D(pool_size=(2,2),strides=(2,2)))\n",
    "    \n",
    "    model.add(Conv2D(64,(5,5),strides=(1,1),activation='relu'))\n",
    "    model.add(MaxPooling2D(pool_size=(2,2),strides=(2,2)))\n",
    "    \n",
    "    \n",
    "    model.add(Flatten())\n",
    "    model.add(Dense(128,activation='relu'))\n",
    "    model.add(Dense(3,activation='softmax'))\n",
    "    \n",
    "    ## Model Compile\n",
    "    model.compile(optimizer=Adam(learning_rate=0.0001),loss='categorical_crossentropy',metrics=['accuracy'])\n",
    "\n",
    "    \n",
    "    return model\n",
    "    \n",
    "\n",
    "model=CNN_model()\n",
    "model.summary()"
   ]
  },
  {
   "cell_type": "code",
   "execution_count": 27,
   "id": "ca8e167c",
   "metadata": {
    "ExecuteTime": {
     "end_time": "2021-09-11T17:11:01.134065Z",
     "start_time": "2021-09-11T16:58:02.378539Z"
    }
   },
   "outputs": [
    {
     "name": "stdout",
     "output_type": "stream",
     "text": [
      "Epoch 1/15\n",
      "9/9 [==============================] - 47s 5s/step - loss: 1.1126 - accuracy: 0.3925 - val_loss: 1.0368 - val_accuracy: 0.5780\n",
      "Epoch 2/15\n",
      "9/9 [==============================] - 47s 5s/step - loss: 1.0035 - accuracy: 0.5511 - val_loss: 0.9349 - val_accuracy: 0.6505\n",
      "Epoch 3/15\n",
      "9/9 [==============================] - 49s 5s/step - loss: 0.8698 - accuracy: 0.6801 - val_loss: 0.8056 - val_accuracy: 0.6156\n",
      "Epoch 4/15\n",
      "9/9 [==============================] - 47s 5s/step - loss: 0.7279 - accuracy: 0.7258 - val_loss: 0.6112 - val_accuracy: 0.8441\n",
      "Epoch 5/15\n",
      "9/9 [==============================] - 46s 5s/step - loss: 0.5655 - accuracy: 0.7957 - val_loss: 0.4679 - val_accuracy: 0.8656\n",
      "Epoch 6/15\n",
      "9/9 [==============================] - 45s 5s/step - loss: 0.3869 - accuracy: 0.9032 - val_loss: 0.2866 - val_accuracy: 0.9355\n",
      "Epoch 7/15\n",
      "9/9 [==============================] - 45s 5s/step - loss: 0.2514 - accuracy: 0.9570 - val_loss: 0.1908 - val_accuracy: 0.9570\n",
      "Epoch 8/15\n",
      "9/9 [==============================] - 50s 6s/step - loss: 0.1683 - accuracy: 0.9624 - val_loss: 0.1341 - val_accuracy: 0.9812\n",
      "Epoch 9/15\n",
      "9/9 [==============================] - 47s 5s/step - loss: 0.1082 - accuracy: 0.9812 - val_loss: 0.0769 - val_accuracy: 0.9919\n",
      "Epoch 10/15\n",
      "9/9 [==============================] - 48s 5s/step - loss: 0.0743 - accuracy: 0.9919 - val_loss: 0.0619 - val_accuracy: 0.9919\n",
      "Epoch 11/15\n",
      "9/9 [==============================] - 46s 5s/step - loss: 0.0480 - accuracy: 0.9973 - val_loss: 0.0365 - val_accuracy: 1.0000\n",
      "Epoch 12/15\n",
      "9/9 [==============================] - 47s 5s/step - loss: 0.0327 - accuracy: 1.0000 - val_loss: 0.0289 - val_accuracy: 0.9919\n",
      "Epoch 13/15\n",
      "9/9 [==============================] - 46s 5s/step - loss: 0.0286 - accuracy: 1.0000 - val_loss: 0.0225 - val_accuracy: 1.0000\n",
      "Epoch 14/15\n",
      "9/9 [==============================] - 45s 5s/step - loss: 0.0180 - accuracy: 1.0000 - val_loss: 0.0115 - val_accuracy: 1.0000\n",
      "Epoch 15/15\n",
      "9/9 [==============================] - 45s 5s/step - loss: 0.0118 - accuracy: 1.0000 - val_loss: 0.0105 - val_accuracy: 1.0000\n"
     ]
    }
   ],
   "source": [
    "## Early Stpping\n",
    "callback=tf.keras.callbacks.EarlyStopping(monitor='loss',patience=3)\n",
    "\n",
    "## Model Training\n",
    "history=model.fit(x=train,steps_per_epoch=len(train),validation_data=valid,epochs=15,verbose=1,callbacks=[callback])"
   ]
  },
  {
   "cell_type": "code",
   "execution_count": 32,
   "id": "8ac88d1b",
   "metadata": {
    "ExecuteTime": {
     "end_time": "2021-09-11T17:16:58.458157Z",
     "start_time": "2021-09-11T17:16:57.819653Z"
    }
   },
   "outputs": [
    {
     "data": {
      "text/plain": [
       "Text(0.5, 1.0, 'Accuracy')"
      ]
     },
     "execution_count": 32,
     "metadata": {},
     "output_type": "execute_result"
    },
    {
     "data": {
      "image/png": "[encoded data removed]",
      "text/plain": [
       "<Figure size 576x576 with 1 Axes>"
      ]
     },
     "metadata": {
      "needs_background": "light"
     },
     "output_type": "display_data"
    }
   ],
   "source": [
    "## Plotting Score & Loss Curve\n",
    "\n",
    "acc=history.history['accuracy']\n",
    "val_acc=history.history['val_accuracy']\n",
    "loss=history.history['loss']\n",
    "val_loss=history.history['val_loss']\n",
    "\n",
    "\n",
    "## Plotting Accuracy Score\n",
    "import matplotlib.pyplot as plt\n",
    "plt.figure(figsize=(8,8))\n",
    "#plt.subplot(1,2,1)\n",
    "plt.plot(range(15),acc,label='Training Accuracy')\n",
    "plt.plot(range(15),val_acc, label='Validation Accuracy')\n",
    "plt.legend(loc='best')\n",
    "plt.title('Accuracy')"
   ]
  },
  {
   "cell_type": "code",
   "execution_count": 34,
   "id": "5a21f292",
   "metadata": {
    "ExecuteTime": {
     "end_time": "2021-09-11T17:18:16.056695Z",
     "start_time": "2021-09-11T17:18:15.469004Z"
    }
   },
   "outputs": [
    {
     "data": {
      "image/png": "[encoded data removed]",
      "text/plain": [
       "<Figure size 432x288 with 1 Axes>"
      ]
     },
     "metadata": {
      "needs_background": "light"
     },
     "output_type": "display_data"
    }
   ],
   "source": [
    "## Plotting Loss\n",
    "\n",
    "#plt.subplot(1,2,2)\n",
    "plt.plot(range(15),loss,label='Training Loss')\n",
    "plt.plot(range(15),val_loss, label='Validation Loss')\n",
    "plt.legend(loc='best')\n",
    "plt.title('Loss')\n",
    "plt.show()"
   ]
  },
  {
   "cell_type": "code",
   "execution_count": null,
   "id": "3e936e8b",
   "metadata": {},
   "outputs": [],
   "source": [
    "## Prediction\n",
    "pred=model.predict(x=test,steps=len(test),verbose=1)\n",
    "pred"
   ]
  },
  {
   "cell_type": "code",
   "execution_count": null,
   "id": "3865882c",
   "metadata": {},
   "outputs": [],
   "source": []
  },
  {
   "cell_type": "markdown",
   "id": "b1624b2d",
   "metadata": {},
   "source": [
    "###################################################"
   ]
  },
  {
   "cell_type": "code",
   "execution_count": null,
   "id": "dcfff14c",
   "metadata": {},
   "outputs": [],
   "source": [
    "## \n",
    "import numpy as np\n",
    "from google.colab import files\n",
    "from keras.preprocessing import image\n",
    "\n",
    "uploaded = files.upload()\n",
    "\n",
    "for fn in uploaded.keys():\n",
    " \n",
    "  # predicting images\n",
    "  path = '/content/' + fn\n",
    "  img = image.load_img(path, target_size=(150, 150))\n",
    "  x = image.img_to_array(img)\n",
    "  x = np.expand_dims(x, axis=0)\n",
    "\n",
    "  images = np.vstack([x])\n",
    "  classes = model.predict(images, batch_size=10)\n",
    "  print(classes[0])\n",
    "  if classes[0]>0.5:\n",
    "    print(fn + \" is a human\")\n",
    "  else:\n",
    "    print(fn + \" is a horse\")\n",
    " "
   ]
  },
  {
   "cell_type": "markdown",
   "id": "c3272ca3",
   "metadata": {},
   "source": [
    "For those running this `Colab` on `Safari` broswer can upload the images(s) manually. Follow the instructions, uncomment the code block below and run it.\n",
    "\n",
    "Instructions on how to upload image(s) manually in a Colab:\n",
    "\n",
    "1. Select the `folder` icon on the left `menu bar`.\n",
    "2. Click on the `folder with an arrow pointing upwards` named `..`\n",
    "3. Click on the `folder` named `tmp`.\n",
    "4. Inside of the `tmp` folder, `create a new folder` called `images`. You'll see the `New folder` option by clicking the `3 vertical dots` menu button next to the `tmp` folder.\n",
    "5. Inside of the new `images` folder, upload an image(s) of your choice, preferably of either a horse or a human. Drag and drop the images(s) on top of the `images` folder.\n",
    "6. Uncomment and run the code block below. "
   ]
  },
  {
   "cell_type": "code",
   "execution_count": null,
   "id": "4c533077",
   "metadata": {},
   "outputs": [],
   "source": [
    "# import numpy as np\n",
    "# from keras.preprocessing import image\n",
    "# import os\n",
    "\n",
    "# images = os.listdir(\"/tmp/images\")\n",
    "\n",
    "# print(images)\n",
    "\n",
    "# for i in images:\n",
    "#  print()\n",
    "#  # predicting images\n",
    "#  path = '/tmp/images/' + i\n",
    "#  img = image.load_img(path, target_size=(150, 150))\n",
    "#  x = image.img_to_array(img)\n",
    "#  x = np.expand_dims(x, axis=0)\n",
    "\n",
    "#  images = np.vstack([x])\n",
    "#  classes = model.predict(images, batch_size=10)\n",
    "#  print(classes[0])\n",
    "#  if classes[0]>0.5:\n",
    "#    print(i + \" is a human\")\n",
    "#  else:\n",
    "#    print(i + \" is a horse\")"
   ]
  },
  {
   "cell_type": "code",
   "execution_count": null,
   "id": "b93f6189",
   "metadata": {},
   "outputs": [],
   "source": []
  },
  {
   "cell_type": "markdown",
   "id": "294282da",
   "metadata": {},
   "source": [
    "### Visualizing Intermediate Representations\n",
    "\n",
    "To get a feel for what kind of features our convnet has learned, one fun thing to do is to visualize how an input gets transformed as it goes through the convnet.\n",
    "\n",
    "Let's pick a random image from the training set, and then generate a figure where each row is the output of a layer, and each image in the row is a specific filter in that output feature map. Rerun this cell to generate intermediate representations for a variety of training images."
   ]
  },
  {
   "cell_type": "code",
   "execution_count": null,
   "id": "a622ecde",
   "metadata": {},
   "outputs": [],
   "source": [
    "import matplotlib.pyplot as plt\n",
    "import numpy as np\n",
    "import random\n",
    "from tensorflow.keras.preprocessing.image import img_to_array, load_img\n",
    "\n",
    "# Let's define a new Model that will take an image as input, and will output\n",
    "# intermediate representations for all layers in the previous model after\n",
    "# the first.\n",
    "successive_outputs = [layer.output for layer in model.layers[1:]]\n",
    "#visualization_model = Model(img_input, successive_outputs)\n",
    "visualization_model = tf.keras.models.Model(inputs = model.input, outputs = successive_outputs)\n",
    "# Let's prepare a random input image from the training set.\n",
    "horse_img_files = [os.path.join(train_horse_dir, f) for f in train_horse_names]\n",
    "human_img_files = [os.path.join(train_human_dir, f) for f in train_human_names]\n",
    "img_path = random.choice(horse_img_files + human_img_files)\n",
    "\n",
    "img = load_img(img_path, target_size=(150, 150))  # this is a PIL image\n",
    "x = img_to_array(img)  # Numpy array with shape (150, 150, 3)\n",
    "x = x.reshape((1,) + x.shape)  # Numpy array with shape (1, 150, 150, 3)\n",
    "\n",
    "# Rescale by 1/255\n",
    "x /= 255\n",
    "\n",
    "# Let's run our image through our network, thus obtaining all\n",
    "# intermediate representations for this image.\n",
    "successive_feature_maps = visualization_model.predict(x)\n",
    "\n",
    "# These are the names of the layers, so can have them as part of our plot\n",
    "layer_names = [layer.name for layer in model.layers]\n",
    "\n",
    "# Now let's display our representations\n",
    "for layer_name, feature_map in zip(layer_names, successive_feature_maps):\n",
    "  if len(feature_map.shape) == 4:\n",
    "    # Just do this for the conv / maxpool layers, not the fully-connected layers\n",
    "    n_features = feature_map.shape[-1]  # number of features in feature map\n",
    "    # The feature map has shape (1, size, size, n_features)\n",
    "    size = feature_map.shape[1]\n",
    "    # We will tile our images in this matrix\n",
    "    display_grid = np.zeros((size, size * n_features))\n",
    "    for i in range(n_features):\n",
    "      # Postprocess the feature to make it visually palatable\n",
    "      x = feature_map[0, :, :, i]\n",
    "      x -= x.mean()\n",
    "      x /= x.std()\n",
    "      x *= 64\n",
    "      x += 128\n",
    "      x = np.clip(x, 0, 255).astype('uint8')\n",
    "      # We'll tile each filter into this big horizontal grid\n",
    "      display_grid[:, i * size : (i + 1) * size] = x\n",
    "    # Display the grid\n",
    "    scale = 20. / n_features\n",
    "    plt.figure(figsize=(scale * n_features, scale))\n",
    "    plt.title(layer_name)\n",
    "    plt.grid(False)\n",
    "    plt.imshow(display_grid, aspect='auto', cmap='viridis')"
   ]
  },
  {
   "cell_type": "markdown",
   "id": "7b548168",
   "metadata": {},
   "source": [
    "As you can see we go from the raw pixels of the images to increasingly abstract and compact representations. The representations downstream start highlighting what the network pays attention to, and they show fewer and fewer features being \"activated\"; most are set to zero. This is called \"sparsity.\" Representation sparsity is a key feature of deep learning.\n",
    "\n",
    "\n",
    "These representations carry increasingly less information about the original pixels of the image, but increasingly refined information about the class of the image. You can think of a convnet (or a deep network in general) as an information distillation pipeline."
   ]
  }
 ],
 "metadata": {
  "kernelspec": {
   "display_name": "Python 3",
   "language": "python",
   "name": "python3"
  },
  "language_info": {
   "codemirror_mode": {
    "name": "ipython",
    "version": 3
   },
   "file_extension": ".py",
   "mimetype": "text/x-python",
   "name": "python",
   "nbconvert_exporter": "python",
   "pygments_lexer": "ipython3",
   "version": "3.8.8"
  },
  "toc": {
   "base_numbering": 1,
   "nav_menu": {},
   "number_sections": true,
   "sideBar": true,
   "skip_h1_title": false,
   "title_cell": "Table of Contents",
   "title_sidebar": "Contents",
   "toc_cell": false,
   "toc_position": {},
   "toc_section_display": true,
   "toc_window_display": false
  },
  "varInspector": {
   "cols": {
    "lenName": 16,
    "lenType": 16,
    "lenVar": 40
   },
   "kernels_config": {
    "python": {
     "delete_cmd_postfix": "",
     "delete_cmd_prefix": "del ",
     "library": "var_list.py",
     "varRefreshCmd": "print(var_dic_list())"
    },
    "r": {
     "delete_cmd_postfix": ") ",
     "delete_cmd_prefix": "rm(",
     "library": "var_list.r",
     "varRefreshCmd": "cat(var_dic_list()) "
    }
   },
   "types_to_exclude": [
    "module",
    "function",
    "builtin_function_or_method",
    "instance",
    "_Feature"
   ],
   "window_display": false
  }
 },
 "nbformat": 4,
 "nbformat_minor": 5
}
